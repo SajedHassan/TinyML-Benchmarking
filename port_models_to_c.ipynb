{
 "cells": [
  {
   "cell_type": "markdown",
   "metadata": {},
   "source": [
    "Convert tflite models to C version"
   ]
  },
  {
   "cell_type": "markdown",
   "metadata": {},
   "source": [
    "Convert tflite model to C"
   ]
  },
  {
   "cell_type": "code",
   "execution_count": 1,
   "metadata": {},
   "outputs": [
    {
     "name": "stdout",
     "output_type": "stream",
     "text": [
      "zsh:1: command not found: apt-get\n"
     ]
    }
   ],
   "source": [
    "# Install xxd if it is not available\n",
    "!apt-get update && apt-get -qq install xxd"
   ]
  },
  {
   "cell_type": "code",
   "execution_count": 32,
   "metadata": {},
   "outputs": [],
   "source": [
    "from os import walk\n",
    "\n",
    "MODELS_DIR = './Models'\n",
    "tflite_models = next(walk(MODELS_DIR), (None, None, []))[2]\n",
    "\n",
    "for tflite_model in tflite_models:\n",
    "  # Convert to a C source file, i.e, a TensorFlow Lite for Microcontrollers model\n",
    "  target_file = MODELS_DIR + '/c_models/' + tflite_model + '.h'\n",
    "  # print(tflite_model)\n",
    "  src_file = MODELS_DIR + '/' + tflite_model\n",
    "  !xxd -i {src_file} > {target_file}"
   ]
  }
 ],
 "metadata": {
  "kernelspec": {
   "display_name": "Python 3",
   "language": "python",
   "name": "python3"
  },
  "language_info": {
   "codemirror_mode": {
    "name": "ipython",
    "version": 3
   },
   "file_extension": ".py",
   "mimetype": "text/x-python",
   "name": "python",
   "nbconvert_exporter": "python",
   "pygments_lexer": "ipython3",
   "version": "3.9.6"
  }
 },
 "nbformat": 4,
 "nbformat_minor": 2
}
